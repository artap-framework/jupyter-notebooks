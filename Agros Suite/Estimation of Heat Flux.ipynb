{
 "cells": [
  {
   "cell_type": "code",
   "execution_count": 1,
   "id": "ad3efc05-480e-435a-9916-b58e6e62826f",
   "metadata": {
    "tags": []
   },
   "outputs": [],
   "source": [
    "from agrossuite import agros\n",
    "from tools import view_geometry, view_scalar\n",
    "\n",
    "import matplotlib.pylab as pl"
   ]
  },
  {
   "cell_type": "code",
   "execution_count": 2,
   "id": "1bef82d3-99a7-4139-b6db-e1dd72db6b7f",
   "metadata": {
    "tags": []
   },
   "outputs": [],
   "source": [
    "# problem\n",
    "problem = agros.problem(clear = True)\n",
    "problem.coordinate_type = \"planar\"\n",
    "problem.mesh_type = \"triangle\"\n",
    "\n",
    "# parameters\n",
    "problem.parameters[\"q\"] = 1000\n",
    "\n",
    "# fields\n",
    "# heat\n",
    "heat = problem.field(\"heat\")\n",
    "heat.analysis_type = \"steadystate\"\n",
    "heat.matrix_solver = \"external_plugin\"\n",
    "heat.number_of_refinements = 1\n",
    "heat.polynomial_order = 2\n",
    "heat.adaptivity_type = \"disabled\"\n",
    "heat.solver = \"linear\"\n",
    "\n",
    "# boundaries\n",
    "heat.add_boundary(\"Convection\", \"heat_heat_flux\", {\"heat_convection_external_temperature\" : 293.15, \"heat_convection_heat_transfer_coefficient\" : 10, \"heat_heat_flux\" : 0, \"heat_radiation_ambient_temperature\" : 293.15, \"heat_radiation_emissivity\" : 0})\n",
    "heat.add_boundary(\"Convection (bottom)\", \"heat_heat_flux\", {\"heat_convection_external_temperature\" : 293.15, \"heat_convection_heat_transfer_coefficient\" : 2, \"heat_heat_flux\" : 0, \"heat_radiation_ambient_temperature\" : 293.15, \"heat_radiation_emissivity\" : 0})\n",
    "heat.add_boundary(\"Source\", \"heat_heat_flux\", {\"heat_convection_external_temperature\" : 0, \"heat_convection_heat_transfer_coefficient\" : 0, \"heat_heat_flux\" : \"q\", \"heat_radiation_ambient_temperature\" : 0, \"heat_radiation_emissivity\" : 0})\n",
    "\n",
    "# materials\n",
    "heat.add_material(\"Copper\", {\"heat_conductivity\" : 385, \"heat_density\" : 0, \"heat_specific_heat\" : 0, \"heat_velocity_angular\" : 0, \"heat_velocity_x\" : 0, \"heat_velocity_y\" : 0, \"heat_volume_heat\" : 0})\n",
    "heat.add_material(\"Aluminum\", {\"heat_conductivity\" : 220, \"heat_density\" : 0, \"heat_specific_heat\" : 0, \"heat_velocity_angular\" : 0, \"heat_velocity_x\" : 0, \"heat_velocity_y\" : 0, \"heat_volume_heat\" : 0})\n",
    "\n",
    "# geometry\n",
    "geometry = problem.geometry()\n",
    "geometry.add_edge(-0.001, 0, -0.001, 0.008, boundaries = {\"heat\" : \"Convection\"})\n",
    "geometry.add_edge(-0.001, 0.008, 0.001, 0.008, boundaries = {\"heat\" : \"Convection\"})\n",
    "geometry.add_edge(0.001, 0.008, 0.001, 0, boundaries = {\"heat\" : \"Convection\"})\n",
    "geometry.add_edge(0.001, 0, 0.004, 0, boundaries = {\"heat\" : \"Convection\"})\n",
    "geometry.add_edge(0.004, 0.006, 0.004, 0, boundaries = {\"heat\" : \"Convection\"})\n",
    "geometry.add_edge(0.004, 0.006, 0.006, 0.006, boundaries = {\"heat\" : \"Convection\"})\n",
    "geometry.add_edge(0.006, 0.006, 0.006, 0, boundaries = {\"heat\" : \"Convection\"})\n",
    "geometry.add_edge(0.006, 0, 0.009, 0, boundaries = {\"heat\" : \"Convection\"})\n",
    "geometry.add_edge(0.009, 0.005, 0.009, 0, boundaries = {\"heat\" : \"Convection\"})\n",
    "geometry.add_edge(0.009, 0.005, 0.011, 0.005, boundaries = {\"heat\" : \"Convection\"})\n",
    "geometry.add_edge(0.011, 0.005, 0.011, 0, boundaries = {\"heat\" : \"Convection\"})\n",
    "geometry.add_edge(-0.012, -0.003, -0.012, 0, boundaries = {\"heat\" : \"Convection\"})\n",
    "geometry.add_edge(-0.012, 0, -0.011, 0, boundaries = {\"heat\" : \"Convection\"})\n",
    "geometry.add_edge(-0.011, 0.005, -0.011, 0, boundaries = {\"heat\" : \"Convection\"})\n",
    "geometry.add_edge(-0.011, 0.005, -0.009, 0.005, boundaries = {\"heat\" : \"Convection\"})\n",
    "geometry.add_edge(-0.009, 0.005, -0.009, 0, boundaries = {\"heat\" : \"Convection\"})\n",
    "geometry.add_edge(-0.009, 0, -0.006, 0, boundaries = {\"heat\" : \"Convection\"})\n",
    "geometry.add_edge(-0.006, 0.006, -0.006, 0, boundaries = {\"heat\" : \"Convection\"})\n",
    "geometry.add_edge(-0.006, 0.006, -0.004, 0.006, boundaries = {\"heat\" : \"Convection\"})\n",
    "geometry.add_edge(-0.004, 0.006, -0.004, 0, boundaries = {\"heat\" : \"Convection\"})\n",
    "geometry.add_edge(-0.004, 0, -0.001, 0, boundaries = {\"heat\" : \"Convection\"})\n",
    "geometry.add_edge(0.011, 0, 0.012, 0, boundaries = {\"heat\" : \"Convection\"})\n",
    "geometry.add_edge(0.012, 0, 0.012, -0.003, boundaries = {\"heat\" : \"Convection\"})\n",
    "geometry.add_edge(-0.012, -0.003, -0.005, -0.003, boundaries = {\"heat\" : \"Convection (bottom)\"})\n",
    "geometry.add_edge(-0.005, -0.004, -0.005, -0.003, boundaries = {\"heat\" : \"Convection (bottom)\"})\n",
    "geometry.add_edge(-0.005, -0.004, 0.005, -0.004, boundaries = {\"heat\" : \"Source\"})\n",
    "geometry.add_edge(0.005, -0.003, 0.005, -0.004, boundaries = {\"heat\" : \"Convection (bottom)\"})\n",
    "geometry.add_edge(0.005, -0.003, 0.012, -0.003, boundaries = {\"heat\" : \"Convection (bottom)\"})\n",
    "geometry.add_edge(-0.005, -0.003, 0.005, -0.003)\n",
    "\n",
    "geometry.add_label(0, 0, materials = {\"heat\" : \"Aluminum\"})\n",
    "geometry.add_label(0, -0.0035, materials = {\"heat\" : \"Copper\"})\n",
    "\n",
    "# recipes \n",
    "heat.add_recipe_local_value(\"Tc\", \"heat_temperature_degrees\", \"scalar\", 0, 0.008, -1, -1)"
   ]
  },
  {
   "cell_type": "code",
   "execution_count": 3,
   "id": "53761bb6-66fe-4c5a-934a-b7d1db5db9e4",
   "metadata": {
    "tags": []
   },
   "outputs": [
    {
     "name": "stdout",
     "output_type": "stream",
     "text": [
      "Mesh Generator: Initial mesh generation\n",
      "Mesh generator: Triangle\n",
      "Mesh Generator: Reading initial mesh from memory\n",
      "Solver: Solver - UMFPACK (none)\n",
      "Solver: Elapsed time: 00:00.063 s\n",
      "Mesh Generator: Initial mesh generation\n",
      "Mesh generator: Triangle\n",
      "Mesh Generator: Reading initial mesh from memory\n",
      "Solver: Solver - UMFPACK (none)\n",
      "Solver: Elapsed time: 00:00.058 s\n",
      "Mesh Generator: Initial mesh generation\n",
      "Mesh generator: Triangle\n",
      "Mesh Generator: Reading initial mesh from memory\n",
      "Solver: Solver - UMFPACK (none)\n",
      "Solver: Elapsed time: 00:00.050 s\n",
      "Mesh Generator: Initial mesh generation\n",
      "Mesh generator: Triangle\n",
      "Mesh Generator: Reading initial mesh from memory\n",
      "Solver: Solver - UMFPACK (none)\n",
      "Solver: Elapsed time: 00:00.050 s\n",
      "Mesh Generator: Initial mesh generation\n",
      "Mesh generator: Triangle\n",
      "Mesh Generator: Reading initial mesh from memory\n",
      "Solver: Solver - UMFPACK (none)\n",
      "Solver: Elapsed time: 00:00.051 s\n",
      "Mesh Generator: Initial mesh generation\n",
      "Mesh generator: Triangle\n",
      "Mesh Generator: Reading initial mesh from memory\n",
      "Solver: Solver - UMFPACK (none)\n",
      "Solver: Elapsed time: 00:00.052 s\n",
      "Mesh Generator: Initial mesh generation\n",
      "Mesh generator: Triangle\n",
      "Mesh Generator: Reading initial mesh from memory\n",
      "Solver: Solver - UMFPACK (none)\n",
      "Solver: Elapsed time: 00:00.049 s\n",
      "Mesh Generator: Initial mesh generation\n",
      "Mesh generator: Triangle\n",
      "Mesh Generator: Reading initial mesh from memory\n",
      "Solver: Solver - UMFPACK (none)\n",
      "Solver: Elapsed time: 00:00.051 s\n",
      "Mesh Generator: Initial mesh generation\n",
      "Mesh generator: Triangle\n",
      "Mesh Generator: Reading initial mesh from memory\n",
      "Solver: Solver - UMFPACK (none)\n",
      "Solver: Elapsed time: 00:00.057 s\n",
      "Mesh Generator: Initial mesh generation\n",
      "Mesh generator: Triangle\n",
      "Mesh Generator: Reading initial mesh from memory\n",
      "Solver: Solver - UMFPACK (none)\n",
      "Solver: Elapsed time: 00:00.051 s\n",
      "Mesh Generator: Initial mesh generation\n",
      "Mesh generator: Triangle\n",
      "Mesh Generator: Reading initial mesh from memory\n",
      "Solver: Solver - UMFPACK (none)\n",
      "Solver: Elapsed time: 00:00.052 s\n",
      "Mesh Generator: Initial mesh generation\n",
      "Mesh generator: Triangle\n",
      "Mesh Generator: Reading initial mesh from memory\n",
      "Solver: Solver - UMFPACK (none)\n",
      "Solver: Elapsed time: 00:00.052 s\n",
      "Mesh Generator: Initial mesh generation\n",
      "Mesh generator: Triangle\n",
      "Mesh Generator: Reading initial mesh from memory\n",
      "Solver: Solver - UMFPACK (none)\n",
      "Solver: Elapsed time: 00:00.052 s\n",
      "Mesh Generator: Initial mesh generation\n",
      "Mesh generator: Triangle\n",
      "Mesh Generator: Reading initial mesh from memory\n",
      "Solver: Solver - UMFPACK (none)\n",
      "Solver: Elapsed time: 00:00.053 s\n",
      "Mesh Generator: Initial mesh generation\n",
      "Mesh generator: Triangle\n",
      "Mesh Generator: Reading initial mesh from memory\n",
      "Solver: Solver - UMFPACK (none)\n",
      "Solver: Elapsed time: 00:00.053 s\n",
      "Mesh Generator: Initial mesh generation\n",
      "Mesh generator: Triangle\n",
      "Mesh Generator: Reading initial mesh from memory\n",
      "Solver: Solver - UMFPACK (none)\n",
      "Solver: Elapsed time: 00:00.051 s\n",
      "Mesh Generator: Initial mesh generation\n",
      "Mesh generator: Triangle\n",
      "Mesh Generator: Reading initial mesh from memory\n",
      "Solver: Solver - UMFPACK (none)\n",
      "Solver: Elapsed time: 00:00.052 s\n",
      "NLopt: Successful\n"
     ]
    }
   ],
   "source": [
    "# studies\n",
    "study_nlopt = problem.add_study(\"nlopt\")\n",
    "study_nlopt.add_parameter(\"q\", 100, 10000)\n",
    "study_nlopt.add_functional(\"OF\", \"abs(Tc-70)\", 100)\n",
    "study_nlopt.clear_solution = True\n",
    "study_nlopt.solve_problem = True\n",
    "study_nlopt.settings[\"xtol_rel\"] = 1e-04\n",
    "study_nlopt.settings[\"xtol_abs\"] = 1e-08\n",
    "study_nlopt.settings[\"ftol_rel\"] = 1e-04\n",
    "study_nlopt.settings[\"ftol_abs\"] = 1e-08\n",
    "study_nlopt.settings[\"n_iterations\"] = 100\n",
    "study_nlopt.settings[\"algorithm\"] = \"ln_bobyqa\"\n",
    "\n",
    "# computation\n",
    "study_nlopt.solve()"
   ]
  },
  {
   "cell_type": "code",
   "execution_count": 6,
   "id": "9e4a0e3c-1fbe-4761-a512-eb89f6c5a34a",
   "metadata": {
    "tags": []
   },
   "outputs": [],
   "source": [
    "q = study_nlopt.values(\"q\")"
   ]
  },
  {
   "cell_type": "code",
   "execution_count": 8,
   "id": "61465f76-dee2-491e-ae22-c24506a68a24",
   "metadata": {
    "tags": []
   },
   "outputs": [
    {
     "data": {
      "image/png": "[encoded data removed]",
      "text/plain": [
       "<Figure size 640x480 with 1 Axes>"
      ]
     },
     "metadata": {},
     "output_type": "display_data"
    }
   ],
   "source": [
    "n = pl.linspace(1, len(of), len(of))\n",
    "\n",
    "pl.scatter(n, q)\n",
    "pl.xlabel(\"steps (-)\")\n",
    "pl.ylabel(\"q (W/m2)\")\n",
    "pl.grid(True)"
   ]
  },
  {
   "cell_type": "code",
   "execution_count": null,
   "id": "2e4cd812-a963-4ab0-a375-3571d678eeeb",
   "metadata": {},
   "outputs": [],
   "source": []
  }
 ],
 "metadata": {
  "kernelspec": {
   "display_name": "Python 3 (ipykernel)",
   "language": "python",
   "name": "python3"
  },
  "language_info": {
   "codemirror_mode": {
    "name": "ipython",
    "version": 3
   },
   "file_extension": ".py",
   "mimetype": "text/x-python",
   "name": "python",
   "nbconvert_exporter": "python",
   "pygments_lexer": "ipython3",
   "version": "3.8.15"
  }
 },
 "nbformat": 4,
 "nbformat_minor": 5
}
