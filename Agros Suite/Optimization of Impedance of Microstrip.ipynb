{
 "cells": [
  {
   "cell_type": "code",
   "execution_count": 1,
   "id": "0aa1ee38-0d61-4db0-aaae-2c94c23e193f",
   "metadata": {
    "editable": true,
    "slideshow": {
     "slide_type": ""
    },
    "tags": []
   },
   "outputs": [],
   "source": [
    "# import Agros Suite\n",
    "from agrossuite import agros\n",
    "from agrossuite.vtk_tools import view_geometry, view_scalar\n",
    "\n",
    "import matplotlib.pylab as pl"
   ]
  },
  {
   "cell_type": "code",
   "execution_count": 2,
   "id": "589ce05f-8ec8-444f-a127-4822b2a01c9a",
   "metadata": {
    "tags": []
   },
   "outputs": [
    {
     "data": {
      "text/plain": [
       "3"
      ]
     },
     "execution_count": 2,
     "metadata": {},
     "output_type": "execute_result"
    }
   ],
   "source": [
    "# enable stdout\n",
    "agros.options.log_stdout = False\n",
    "\n",
    "# problem\n",
    "problem = agros.problem(clear = True)\n",
    "problem.coordinate_type = \"planar\"\n",
    "problem.mesh_type = \"triangle\"\n",
    "\n",
    "# parameters\n",
    "problem.parameters[\"W\"] = 0.1\n",
    "problem.parameters[\"b\"] = 0.4\n",
    "problem.parameters[\"h\"] = 0.05\n",
    "problem.parameters[\"tg\"] = 0.01\n",
    "problem.parameters[\"ts\"] = 0.01\n",
    "\n",
    "# fields\n",
    "# electrostatic\n",
    "electrostatic = problem.field(\"electrostatic\")\n",
    "electrostatic.analysis_type = \"steadystate\"\n",
    "electrostatic.matrix_solver = \"external_plugin\"\n",
    "electrostatic.number_of_refinements = 1\n",
    "electrostatic.polynomial_order = 2\n",
    "electrostatic.adaptivity_type = \"disabled\"\n",
    "electrostatic.solver = \"linear\"\n",
    "\n",
    "# boundaries\n",
    "electrostatic.add_boundary(\"Neumann\", \"electrostatic_surface_charge_density\", {\"electrostatic_surface_charge_density\" : 0})\n",
    "electrostatic.add_boundary(\"Voltage\", \"electrostatic_potential\", {\"electrostatic_potential\" : 1})\n",
    "electrostatic.add_boundary(\"Ground\", \"electrostatic_potential\", {\"electrostatic_potential\" : 0})\n",
    "\n",
    "# materials\n",
    "electrostatic.add_material(\"Strip\", {\"electrostatic_charge_density\" : 0, \"electrostatic_permittivity\" : 2.6})\n",
    "electrostatic.add_material(\"Air\", {\"electrostatic_charge_density\" : 0, \"electrostatic_permittivity\" : 1})\n",
    "\n",
    "# magnetic\n",
    "magnetic = problem.field(\"magnetic\")\n",
    "magnetic.analysis_type = \"steadystate\"\n",
    "magnetic.matrix_solver = \"external_plugin\"\n",
    "magnetic.number_of_refinements = 1\n",
    "magnetic.polynomial_order = 2\n",
    "magnetic.adaptivity_type = \"disabled\"\n",
    "magnetic.solver = \"linear\"\n",
    "\n",
    "# boundaries\n",
    "magnetic.add_boundary(\"Neumann\", \"magnetic_surface_current\", {\"magnetic_surface_current_real\" : 0})\n",
    "magnetic.add_boundary(\"A = 0\", \"magnetic_potential\", {\"magnetic_potential_real\" : 0})\n",
    "\n",
    "# materials\n",
    "magnetic.add_material(\"I+\", {\"magnetic_conductivity\" : 0, \"magnetic_current_density_external_real\" : \"0.5/(W/2*ts)\", \"magnetic_permeability\" : 1, \"magnetic_remanence\" : 0, \"magnetic_remanence_angle\" : 0, \"magnetic_velocity_angular\" : 0, \"magnetic_velocity_x\" : 0, \"magnetic_velocity_y\" : 0})\n",
    "magnetic.add_material(\"I-\", {\"magnetic_conductivity\" : 0, \"magnetic_current_density_external_real\" : \"-0.5/(b/2*tg)\", \"magnetic_permeability\" : 1, \"magnetic_remanence\" : 0, \"magnetic_remanence_angle\" : 0, \"magnetic_velocity_angular\" : 0, \"magnetic_velocity_x\" : 0, \"magnetic_velocity_y\" : 0})\n",
    "magnetic.add_material(\"Air\", {\"magnetic_conductivity\" : 0, \"magnetic_current_density_external_real\" : 0, \"magnetic_permeability\" : 1, \"magnetic_remanence\" : 0, \"magnetic_remanence_angle\" : 0, \"magnetic_velocity_angular\" : 0, \"magnetic_velocity_x\" : 0, \"magnetic_velocity_y\" : 0})\n",
    "\n",
    "# geometry\n",
    "geometry = problem.geometry()\n",
    "geometry.add_edge(0, 0.6, 0.6, 0.6, boundaries = {\"magnetic\" : \"A = 0\"})\n",
    "geometry.add_edge(0.6, 0.6, 0.6, -0.6, boundaries = {\"magnetic\" : \"A = 0\"})\n",
    "geometry.add_edge(0.6, -0.6, 0, -0.6, boundaries = {\"magnetic\" : \"A = 0\"})\n",
    "geometry.add_edge(0, \"-tg\", 0, -0.6, boundaries = {\"electrostatic\" : \"Neumann\", \"magnetic\" : \"Neumann\"})\n",
    "geometry.add_edge(0, 0, 0, \"-tg\", boundaries = {\"electrostatic\" : \"Neumann\", \"magnetic\" : \"Neumann\"})\n",
    "geometry.add_edge(0, \"-tg\", \"b/2\", \"-tg\", boundaries = {\"electrostatic\" : \"Ground\"})\n",
    "geometry.add_edge(\"b/2\", \"h\", \"b/2\", 0)\n",
    "geometry.add_edge(\"W/2\", \"h\", 0, \"h\", boundaries = {\"electrostatic\" : \"Voltage\"})\n",
    "geometry.add_edge(0, \"h+ts\", 0, \"h\", boundaries = {\"electrostatic\" : \"Neumann\", \"magnetic\" : \"Neumann\"})\n",
    "geometry.add_edge(0, 0, 0, \"h\", boundaries = {\"electrostatic\" : \"Neumann\", \"magnetic\" : \"Neumann\"})\n",
    "geometry.add_edge(\"W/2\", \"h+ts\", \"W/2\", \"h\", boundaries = {\"electrostatic\" : \"Voltage\"})\n",
    "geometry.add_edge(0, \"h+ts\", \"W/2\", \"h+ts\", boundaries = {\"electrostatic\" : \"Voltage\"})\n",
    "geometry.add_edge(\"W/2\", \"h\", \"b/2\", \"h\")\n",
    "geometry.add_edge(0, 0.6, 0, \"h+ts\", boundaries = {\"electrostatic\" : \"Neumann\", \"magnetic\" : \"Neumann\"})\n",
    "geometry.add_edge(\"b/2\", 0, \"b/2\", \"-tg\", boundaries = {\"electrostatic\" : \"Ground\"})\n",
    "geometry.add_edge(\"b/2\", 0, 0, 0, boundaries = {\"electrostatic\" : \"Ground\"})\n",
    "\n",
    "geometry.add_label(0.456863, 0.29972, materials = {\"electrostatic\" : \"Air\", \"magnetic\" : \"Air\"})\n",
    "geometry.add_label(\"b/4\", \"h/2\", materials = {\"electrostatic\" : \"Strip\", \"magnetic\" : \"Air\"})\n",
    "geometry.add_label(\"W/4\", \"h+ts/2\", materials = {\"electrostatic\" : \"none\", \"magnetic\" : \"I+\"})\n",
    "geometry.add_label(\"b/4\", \"-tg/2\", materials = {\"electrostatic\" : \"none\", \"magnetic\" : \"I-\"})"
   ]
  },
  {
   "cell_type": "code",
   "execution_count": 3,
   "id": "2d32094f-71fc-473d-af87-c1ed85dc70e3",
   "metadata": {
    "tags": []
   },
   "outputs": [],
   "source": [
    "# recipes \n",
    "electrostatic.add_recipe_volume_integral(\"We\", \"electrostatic_energy\", [0, 1], -1, -1)\n",
    "magnetic.add_recipe_volume_integral(\"Wm\", \"magnetic_energy\", [0, 1, 2, 3], -1, -1)\n",
    "\n",
    "# studies\n",
    "study_nlopt = problem.add_study(\"nlopt\")\n",
    "study_nlopt.add_parameter(\"W\", 0.01, 0.05)\n",
    "study_nlopt.add_parameter(\"b\", 0.06, 0.3)\n",
    "study_nlopt.add_parameter(\"h\", 0.01, 0.1)\n",
    "study_nlopt.add_parameter(\"tg\", 0.001, 0.03)\n",
    "study_nlopt.add_parameter(\"ts\", 0.001, 0.03)\n",
    "study_nlopt.add_functional(\"OF\", \"abs(sqrt((4*Wm/1**2)/(4*We/1**2))-75)\", 100)\n",
    "study_nlopt.add_functional(\"Z0\", \"sqrt((4*Wm/1**2)/(4*We/1**2))\", 0)\n",
    "study_nlopt.clear_solution = True\n",
    "study_nlopt.solve_problem = True\n",
    "study_nlopt.settings[\"xtol_rel\"] = 1e-06\n",
    "study_nlopt.settings[\"xtol_abs\"] = 1e-12\n",
    "study_nlopt.settings[\"ftol_rel\"] = 1e-06\n",
    "study_nlopt.settings[\"ftol_abs\"] = 1e-12\n",
    "study_nlopt.settings[\"n_iterations\"] = 50\n",
    "study_nlopt.settings[\"algorithm\"] = \"ln_bobyqa\"\n",
    "\n",
    "# computation\n",
    "study_nlopt.solve()"
   ]
  },
  {
   "cell_type": "code",
   "execution_count": 4,
   "id": "17d65488-52bb-49d1-888b-8eb5415c2094",
   "metadata": {
    "tags": []
   },
   "outputs": [],
   "source": [
    "of_z0 = study_nlopt.values(\"Z0\")"
   ]
  },
  {
   "cell_type": "code",
   "execution_count": 5,
   "id": "5e956afc-4d4c-4925-bb01-c90d4656adc1",
   "metadata": {
    "tags": []
   },
   "outputs": [
    {
     "data": {
      "image/png": "[encoded data removed]",
      "text/plain": [
       "<Figure size 640x480 with 1 Axes>"
      ]
     },
     "metadata": {},
     "output_type": "display_data"
    }
   ],
   "source": [
    "n = pl.linspace(1, len(of_z0), len(of_z0))\n",
    "\n",
    "pl.scatter(n, of_z0)\n",
    "pl.xlabel(\"steps (-)\")\n",
    "pl.ylabel(\"Z0 (Ohm)\")\n",
    "pl.grid(True)"
   ]
  },
  {
   "cell_type": "code",
   "execution_count": null,
   "id": "4f4d281e-8b3e-4310-92df-0f59e421cefe",
   "metadata": {},
   "outputs": [],
   "source": []
  }
 ],
 "metadata": {
  "kernelspec": {
   "display_name": "Python 3.12",
   "language": "python",
   "name": "python_3.12"
  },
  "language_info": {
   "codemirror_mode": {
    "name": "ipython",
    "version": 3
   },
   "file_extension": ".py",
   "mimetype": "text/x-python",
   "name": "python",
   "nbconvert_exporter": "python",
   "pygments_lexer": "ipython3",
   "version": "3.12.2"
  }
 },
 "nbformat": 4,
 "nbformat_minor": 5
}
