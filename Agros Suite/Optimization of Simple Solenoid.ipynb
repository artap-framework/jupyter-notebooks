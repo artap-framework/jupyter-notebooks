{
 "cells": [
  {
   "cell_type": "code",
   "execution_count": 1,
   "id": "33e6ee0f-93be-4bed-8225-edf4e836e3c9",
   "metadata": {
    "tags": []
   },
   "outputs": [],
   "source": [
    "# import Agros Suite\n",
    "from agrossuite import agros\n",
    "from agrossuite.vtk_tools import view_geometry, view_scalar\n",
    "\n",
    "import matplotlib.pylab as pl"
   ]
  },
  {
   "cell_type": "code",
   "execution_count": 2,
   "id": "46612548-26a1-45ec-a14b-aa5b6176df32",
   "metadata": {
    "tags": []
   },
   "outputs": [
    {
     "data": {
      "text/plain": [
       "2"
      ]
     },
     "execution_count": 2,
     "metadata": {},
     "output_type": "execute_result"
    }
   ],
   "source": [
    "# problem\n",
    "problem = agros.problem(clear = True)\n",
    "problem.coordinate_type = \"axisymmetric\"\n",
    "problem.mesh_type = \"triangle\"\n",
    "\n",
    "# parameters\n",
    "problem.parameters[\"I\"] = 10\n",
    "problem.parameters[\"a\"] = 0.002\n",
    "problem.parameters[\"h\"] = 0.01\n",
    "problem.parameters[\"w\"] = 0.005\n",
    "\n",
    "# fields\n",
    "# magnetic\n",
    "magnetic = problem.field(\"magnetic\")\n",
    "magnetic.analysis_type = \"steadystate\"\n",
    "magnetic.matrix_solver = \"external_plugin\"\n",
    "magnetic.number_of_refinements = 1\n",
    "magnetic.polynomial_order = 2\n",
    "magnetic.adaptivity_type = \"disabled\"\n",
    "magnetic.solver = \"linear\"\n",
    "\n",
    "# boundaries\n",
    "magnetic.add_boundary(\"A = 0\", \"magnetic_potential\", {\"magnetic_potential_real\" : 0})\n",
    "\n",
    "# materials\n",
    "magnetic.add_material(\"Coil\", {\"magnetic_conductivity\" : 0, \"magnetic_current_density_external_real\" : \"I/(w*h)\", \"magnetic_permeability\" : 1, \"magnetic_remanence\" : 0, \"magnetic_remanence_angle\" : 0, \"magnetic_velocity_angular\" : 0, \"magnetic_velocity_x\" : 0, \"magnetic_velocity_y\" : 0})\n",
    "magnetic.add_material(\"Air\", {\"magnetic_conductivity\" : 0, \"magnetic_current_density_external_real\" : 0, \"magnetic_permeability\" : 1, \"magnetic_remanence\" : 0, \"magnetic_remanence_angle\" : 0, \"magnetic_velocity_angular\" : 0, \"magnetic_velocity_x\" : 0, \"magnetic_velocity_y\" : 0})\n",
    "magnetic.add_material(\"Iron\", {\"magnetic_conductivity\" : 0, \"magnetic_current_density_external_real\" : 0, \"magnetic_permeability\" : 500, \"magnetic_remanence\" : 0, \"magnetic_remanence_angle\" : 0, \"magnetic_velocity_angular\" : 0, \"magnetic_velocity_x\" : 0, \"magnetic_velocity_y\" : 0})\n",
    "\n",
    "# geometry\n",
    "geometry = problem.geometry()\n",
    "geometry.add_edge(0, 0.025, 0, -0.003, boundaries = {\"magnetic\" : \"A = 0\"})\n",
    "geometry.add_edge(0, 0.025, 0.03, 0.025, boundaries = {\"magnetic\" : \"A = 0\"})\n",
    "geometry.add_edge(0.03, 0.025, 0.03, -0.025, boundaries = {\"magnetic\" : \"A = 0\"})\n",
    "geometry.add_edge(0.03, -0.025, 0, -0.025, boundaries = {\"magnetic\" : \"A = 0\"})\n",
    "geometry.add_edge(0.001, -0.01, 0, -0.01)\n",
    "geometry.add_edge(0, -0.003, 0, -0.01, boundaries = {\"magnetic\" : \"A = 0\"})\n",
    "geometry.add_edge(0, -0.003, 0.001, -0.003)\n",
    "geometry.add_edge(0.001, -0.003, 0.001, -0.01)\n",
    "geometry.add_edge(\"a\", \"-h/2\", \"a+w\", \"-h/2\")\n",
    "geometry.add_edge(\"a+w\", \"h/2\", \"a+w\", \"-h/2\")\n",
    "geometry.add_edge(\"a\", \"h/2\", \"a\", \"-h/2\")\n",
    "geometry.add_edge(\"a\", \"h/2\", \"a+w\", \"h/2\")\n",
    "geometry.add_edge(0, -0.01, 0, -0.025, boundaries = {\"magnetic\" : \"A = 0\"})\n",
    "\n",
    "geometry.add_label(\"a+w/2\", 0, materials = {\"magnetic\" : \"Coil\"})\n",
    "geometry.add_label(0.0225658, 0.00334431, materials = {\"magnetic\" : \"Air\"})\n",
    "geometry.add_label(0.000593115, -0.00823363, materials = {\"magnetic\" : \"Iron\"})"
   ]
  },
  {
   "cell_type": "code",
   "execution_count": 3,
   "id": "62065192-d4c6-458a-85a0-6c1f5f991821",
   "metadata": {
    "tags": []
   },
   "outputs": [],
   "source": [
    "# recipes \n",
    "magnetic.add_recipe_volume_integral(\"F\", \"magnetic_tensor_force_y\", [2], -1, -1)\n",
    "\n",
    "# studies\n",
    "study_nlopt = problem.add_study(\"nlopt\")\n",
    "study_nlopt.add_parameter(\"w\", 0.002, 0.01)\n",
    "study_nlopt.add_parameter(\"h\", 0.004, 0.02)\n",
    "study_nlopt.add_parameter(\"I\", 2, 20)\n",
    "study_nlopt.add_functional(\"Fmax\", \"-F\", 100)\n",
    "study_nlopt.clear_solution = True\n",
    "study_nlopt.solve_problem = True\n",
    "study_nlopt.settings[\"xtol_rel\"] = 1e-06\n",
    "study_nlopt.settings[\"xtol_abs\"] = 1e-12\n",
    "study_nlopt.settings[\"ftol_rel\"] = 1e-06\n",
    "study_nlopt.settings[\"ftol_abs\"] = 1e-12\n",
    "study_nlopt.settings[\"n_iterations\"] = 50\n",
    "study_nlopt.settings[\"algorithm\"] = \"ln_bobyqa\"\n",
    "\n",
    "# computation\n",
    "study_nlopt.solve()"
   ]
  },
  {
   "cell_type": "code",
   "execution_count": 4,
   "id": "99f8ed1f-3e06-48ab-86b0-bdb68f719409",
   "metadata": {
    "tags": []
   },
   "outputs": [],
   "source": [
    "of_max = study_nlopt.values(\"Fmax\")"
   ]
  },
  {
   "cell_type": "code",
   "execution_count": 5,
   "id": "dc1a664f-dc5f-4cfc-b597-f039a1b22373",
   "metadata": {
    "tags": []
   },
   "outputs": [
    {
     "data": {
      "image/png": "[encoded data removed]",
      "text/plain": [
       "<Figure size 640x480 with 1 Axes>"
      ]
     },
     "metadata": {},
     "output_type": "display_data"
    }
   ],
   "source": [
    "n = pl.linspace(1, len(of_max), len(of_max))\n",
    "\n",
    "pl.scatter(n, of_max)\n",
    "pl.xlabel(\"steps (-)\")\n",
    "pl.ylabel(\"OF max (N)\")\n",
    "pl.grid(True)"
   ]
  },
  {
   "cell_type": "code",
   "execution_count": null,
   "id": "e50159e8-b7e7-4055-a2ce-98e36dcfba18",
   "metadata": {},
   "outputs": [],
   "source": []
  }
 ],
 "metadata": {
  "kernelspec": {
   "display_name": "Python 3.12",
   "language": "python",
   "name": "python_3.12"
  },
  "language_info": {
   "codemirror_mode": {
    "name": "ipython",
    "version": 3
   },
   "file_extension": ".py",
   "mimetype": "text/x-python",
   "name": "python",
   "nbconvert_exporter": "python",
   "pygments_lexer": "ipython3",
   "version": "3.12.2"
  }
 },
 "nbformat": 4,
 "nbformat_minor": 5
}
