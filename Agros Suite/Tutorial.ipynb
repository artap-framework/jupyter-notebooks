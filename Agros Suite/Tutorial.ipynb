{
 "cells": [
  {
   "cell_type": "code",
   "execution_count": 1,
   "metadata": {
    "editable": true,
    "slideshow": {
     "slide_type": ""
    },
    "tags": []
   },
   "outputs": [
    {
     "name": "stdout",
     "output_type": "stream",
     "text": [
      "Defaulting to user installation because normal site-packages is not writeable\n",
      "\u001b[33mWARNING: Skipping /home/jupyter/mambaforge/envs/python_3.12/lib/python3.12/site-packages/nlopt-2.7.1.dist-info due to invalid metadata entry 'name'\u001b[0m\u001b[33m\n",
      "\u001b[0m\u001b[33mWARNING: Skipping /home/jupyter/mambaforge/envs/python_3.12/lib/python3.12/site-packages/nlopt-2.7.1.dist-info due to invalid metadata entry 'name'\u001b[0m\u001b[33m\n",
      "\u001b[0mRequirement already satisfied: agrossuite in /var/lib/karban/.local/lib/python3.12/site-packages (2024.3.13.31134)\n",
      "\u001b[33mWARNING: Skipping /home/jupyter/mambaforge/envs/python_3.12/lib/python3.12/site-packages/nlopt-2.7.1.dist-info due to invalid metadata entry 'name'\u001b[0m\u001b[33m\n",
      "\u001b[0m\u001b[33mWARNING: Skipping /home/jupyter/mambaforge/envs/python_3.12/lib/python3.12/site-packages/nlopt-2.7.1.dist-info due to invalid metadata entry 'name'\u001b[0m\u001b[33m\n",
      "\u001b[0m\u001b[33mWARNING: Skipping /home/jupyter/mambaforge/envs/python_3.12/lib/python3.12/site-packages/nlopt-2.7.1.dist-info due to invalid metadata entry 'name'\u001b[0m\u001b[33m\n",
      "\u001b[0m\u001b[33mWARNING: Skipping /home/jupyter/mambaforge/envs/python_3.12/lib/python3.12/site-packages/nlopt-2.7.1.dist-info due to invalid metadata entry 'name'\u001b[0m\u001b[33m\n",
      "\u001b[0mNote: you may need to restart the kernel to use updated packages.\n"
     ]
    }
   ],
   "source": [
    "%pip install --upgrade agrossuite"
   ]
  },
  {
   "cell_type": "code",
   "execution_count": 18,
   "metadata": {
    "tags": []
   },
   "outputs": [],
   "source": [
    "# import Agros Suite\n",
    "from agrossuite import agros\n",
    "from agrossuite.vtk_tools import view_geometry, view_scalar"
   ]
  },
  {
   "cell_type": "code",
   "execution_count": 19,
   "metadata": {},
   "outputs": [],
   "source": [
    "L = 0.1\n",
    "R1 = 0.01\n",
    "R2 = 0.03\n",
    "R3 = 0.05\n",
    "R4 = 0.06\n",
    "RB = 0.25\n",
    "U = 10\n",
    "eps1 = 3\n",
    "eps2 = 4"
   ]
  },
  {
   "cell_type": "markdown",
   "metadata": {},
   "source": [
    "### Agros Options"
   ]
  },
  {
   "cell_type": "code",
   "execution_count": 20,
   "metadata": {
    "editable": true,
    "slideshow": {
     "slide_type": ""
    },
    "tags": []
   },
   "outputs": [],
   "source": [
    "# Agros options\n",
    "\n",
    "# enable stdout\n",
    "agros.options.log_stdout = True"
   ]
  },
  {
   "cell_type": "markdown",
   "metadata": {
    "editable": true,
    "slideshow": {
     "slide_type": ""
    },
    "tags": []
   },
   "source": [
    "### Problem Class"
   ]
  },
  {
   "cell_type": "code",
   "execution_count": 21,
   "metadata": {
    "tags": []
   },
   "outputs": [],
   "source": [
    "# set problem and clear all fields\n",
    "problem = agros.problem(clear = True)\n",
    "\n",
    "# set coordinate system - valid keys: planar, axisymmetric\n",
    "problem.coordinate_type = \"axisymmetric\"\n",
    "\n",
    "# set mesh generator - valid keys: triangle, gmsh_quad (if installed)\n",
    "problem.mesh_type = \"triangle\""
   ]
  },
  {
   "cell_type": "markdown",
   "metadata": {},
   "source": [
    "### Field Definition"
   ]
  },
  {
   "cell_type": "code",
   "execution_count": 22,
   "metadata": {},
   "outputs": [],
   "source": [
    "# electrostatic\n",
    "electrostatic = problem.field(\"electrostatic\")\n",
    "electrostatic.analysis_type = \"steadystate\"\n",
    "electrostatic.number_of_refinements = 0\n",
    "electrostatic.polynomial_order = 4\n",
    "electrostatic.adaptivity_type = \"disabled\"\n",
    "electrostatic.solver = \"linear\""
   ]
  },
  {
   "cell_type": "markdown",
   "metadata": {},
   "source": [
    "#### Boundaries"
   ]
  },
  {
   "cell_type": "code",
   "execution_count": 23,
   "metadata": {},
   "outputs": [],
   "source": [
    "# boundaries\n",
    "electrostatic.add_boundary(\"Source\", \"electrostatic_potential\", {\"electrostatic_potential\" : U})\n",
    "electrostatic.add_boundary(\"Ground\", \"electrostatic_potential\", {\"electrostatic_potential\" : 0})\n",
    "electrostatic.add_boundary(\"Neumann\", \"electrostatic_surface_charge_density\", {\"electrostatic_surface_charge_density\" : 0})"
   ]
  },
  {
   "cell_type": "markdown",
   "metadata": {},
   "source": [
    "#### Materials"
   ]
  },
  {
   "cell_type": "code",
   "execution_count": 24,
   "metadata": {},
   "outputs": [],
   "source": [
    "# materials\n",
    "electrostatic.add_material(\"Air\", {\"electrostatic_charge_density\" : 0, \"electrostatic_permittivity\" : 1})\n",
    "electrostatic.add_material(\"Dielectric 1\", {\"electrostatic_charge_density\" : 0, \"electrostatic_permittivity\" : eps1})\n",
    "electrostatic.add_material(\"Dielectric 2\", {\"electrostatic_charge_density\" : 0, \"electrostatic_permittivity\" : eps2})"
   ]
  },
  {
   "cell_type": "markdown",
   "metadata": {},
   "source": [
    "#### Geometry"
   ]
  },
  {
   "cell_type": "code",
   "execution_count": 25,
   "metadata": {},
   "outputs": [
    {
     "data": {
      "text/plain": [
       "2"
      ]
     },
     "execution_count": 25,
     "metadata": {},
     "output_type": "execute_result"
    }
   ],
   "source": [
    "# geometry\n",
    "geometry = problem.geometry()\n",
    "\n",
    "# edges\n",
    "geometry.add_edge(0, RB, 0, L, boundaries = {\"electrostatic\" : \"Neumann\"})\n",
    "geometry.add_edge(R1, L, R1, 0, boundaries = {\"electrostatic\" : \"Source\"})\n",
    "geometry.add_edge(R1, 0, R2, 0, boundaries = {\"electrostatic\" : \"Neumann\"})\n",
    "geometry.add_edge(R2, 0, R2, L)\n",
    "geometry.add_edge(R2, L, R3, L)\n",
    "geometry.add_edge(R3, 0, R2, 0, boundaries = {\"electrostatic\" : \"Neumann\"})\n",
    "geometry.add_edge(R3, L, R3, 0, boundaries = {\"electrostatic\" : \"Ground\"})\n",
    "geometry.add_edge(R4, 0, R4, L, boundaries = {\"electrostatic\" : \"Ground\"})\n",
    "geometry.add_edge(R3, L, R4, L, boundaries = {\"electrostatic\" : \"Ground\"})\n",
    "geometry.add_edge(R4, 0, RB, 0, boundaries = {\"electrostatic\" : \"Neumann\"})\n",
    "geometry.add_edge(RB, 0, 0, RB, angle = 90, segments = 8, boundaries = {\"electrostatic\" : \"Neumann\"})\n",
    "geometry.add_edge(R1, L, R2, L)\n",
    "geometry.add_edge(R1, L, 0, L, boundaries = {\"electrostatic\" : \"Source\"})\n",
    "\n",
    "# labels\n",
    "geometry.add_label((R1+R2)/2.0, L/2.0, materials = {\"electrostatic\" : \"Dielectric 1\"})\n",
    "geometry.add_label((R2+R3)/2.0, L/2.0, materials = {\"electrostatic\" : \"Dielectric 2\"})\n",
    "geometry.add_label(R1, RB-R1, materials = {\"electrostatic\" : \"Air\"})"
   ]
  },
  {
   "cell_type": "code",
   "execution_count": 26,
   "metadata": {
    "tags": []
   },
   "outputs": [
    {
     "name": "stdout",
     "output_type": "stream",
     "text": [
      "Mesh Generator: Initial mesh generation\n",
      "Mesh generator: Triangle\n",
      "Mesh Generator: Reading initial mesh from memory\n",
      "Solver: Solver - MUMPS (none)\n",
      "Solver: Elapsed time: 00:00.016 s\n"
     ]
    }
   ],
   "source": [
    "computation = problem.computation()\n",
    "computation.solve()"
   ]
  },
  {
   "cell_type": "code",
   "execution_count": 27,
   "metadata": {},
   "outputs": [
    {
     "data": {
      "image/png": "[encoded data removed]",
      "text/plain": [
       "<Figure size 500x500 with 1 Axes>"
      ]
     },
     "metadata": {},
     "output_type": "display_data"
    }
   ],
   "source": [
    "view_geometry(problem)"
   ]
  },
  {
   "cell_type": "code",
   "execution_count": 28,
   "metadata": {
    "tags": []
   },
   "outputs": [
    {
     "data": {
      "image/png": "[encoded data removed]",
      "text/plain": [
       "<Figure size 500x500 with 2 Axes>"
      ]
     },
     "metadata": {},
     "output_type": "display_data"
    }
   ],
   "source": [
    "view_scalar(problem, computation, time_step=0, adaptive_step=0, field=\"electrostatic\", variable=\"electrostatic_potential\", component=\"scalar\")"
   ]
  },
  {
   "cell_type": "code",
   "execution_count": 29,
   "metadata": {
    "tags": []
   },
   "outputs": [],
   "source": [
    "solution = computation.solution('electrostatic')"
   ]
  },
  {
   "cell_type": "code",
   "execution_count": 30,
   "metadata": {
    "tags": []
   },
   "outputs": [
    {
     "name": "stdout",
     "output_type": "stream",
     "text": [
      "{'Ftx': -3.373452635171553e-08, 'Fty': 4.7649355946000485e-09, 'S': 0.047008570164780314, 'Tt': 0.0, 'V': 0.032269142630881355, 'We': 5.867719099749986e-10}\n"
     ]
    }
   ],
   "source": [
    "volume_integrals = solution.volume_integrals([0, 1, 2])\n",
    "print(volume_integrals)"
   ]
  },
  {
   "cell_type": "code",
   "execution_count": 31,
   "metadata": {
    "tags": []
   },
   "outputs": [
    {
     "name": "stdout",
     "output_type": "stream",
     "text": [
      "{'Ftx': 0.0, 'Fty': 3.375085130050892e-08, 'Q': 1.1656938547097244e-10, 'S': 0.006597344572538565, 'Tm': 0.0, 'l': 0.10999999999999999}\n",
      "{'Ftx': 0.0, 'Fty': -1.5362129470492977e-10, 'Q': -1.1679469543228947e-10, 'S': 0.07257079029792422, 'Tm': 0.0, 'l': 0.20999999999999996}\n"
     ]
    }
   ],
   "source": [
    "surface_integrals_1 = solution.surface_integrals([1, 12])\n",
    "print(surface_integrals_1)\n",
    "\n",
    "surface_integrals_2 = solution.surface_integrals([6, 7, 8])\n",
    "print(surface_integrals_2)"
   ]
  },
  {
   "cell_type": "code",
   "execution_count": 32,
   "metadata": {
    "tags": []
   },
   "outputs": [
    {
     "name": "stdout",
     "output_type": "stream",
     "text": [
      "capacitance_volume =    1.1735438199499972e-11 F\n",
      "capacitance_surface_1 = 1.1656938547097244e-11 F\n",
      "capacitance_surface_2 = 1.1679469543228946e-11 F\n"
     ]
    }
   ],
   "source": [
    "capacitance_volume = 2*volume_integrals['We']/(U**2)\n",
    "print(\"capacitance_volume =    {} F\".format(capacitance_volume))\n",
    "\n",
    "capacitance_surface_1 = abs(surface_integrals_1['Q']/U)\n",
    "print(\"capacitance_surface_1 = {} F\".format(capacitance_surface_1))\n",
    "\n",
    "capacitance_surface_2 = abs(surface_integrals_2['Q']/U)\n",
    "print(\"capacitance_surface_2 = {} F\".format(capacitance_surface_2))"
   ]
  },
  {
   "cell_type": "code",
   "execution_count": 33,
   "metadata": {
    "tags": []
   },
   "outputs": [
    {
     "name": "stdout",
     "output_type": "stream",
     "text": [
      "{'D': 8.968559878214266e-09, 'Dr': 8.968555851885997e-09, 'Dz': 8.498277244018354e-12, 'E': 337.6462569917275, 'Er': 337.64610540945705, 'Ez': 0.3199411657261635, 'V': 5.3180441035128405, 'epsr': 3.0, 'rho': 0.0, 'we': 1.5141003367426154e-06}\n"
     ]
    }
   ],
   "source": [
    "local_values = solution.local_values((R1+R2)/2, L/2)\n",
    "print(local_values)"
   ]
  },
  {
   "cell_type": "code",
   "execution_count": null,
   "metadata": {},
   "outputs": [],
   "source": []
  }
 ],
 "metadata": {
  "kernelspec": {
   "display_name": "Python 3.12",
   "language": "python",
   "name": "python_3.12"
  },
  "language_info": {
   "codemirror_mode": {
    "name": "ipython",
    "version": 3
   },
   "file_extension": ".py",
   "mimetype": "text/x-python",
   "name": "python",
   "nbconvert_exporter": "python",
   "pygments_lexer": "ipython3",
   "version": "3.12.2"
  }
 },
 "nbformat": 4,
 "nbformat_minor": 4
}
