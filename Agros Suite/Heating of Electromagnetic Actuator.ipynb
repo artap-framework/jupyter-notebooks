{
 "cells": [
  {
   "cell_type": "code",
   "execution_count": 1,
   "id": "b0e0d7e1-fd7d-49db-8954-557dd06e9731",
   "metadata": {
    "tags": []
   },
   "outputs": [],
   "source": [
    "# import Agros Suite\n",
    "from agrossuite import agros\n",
    "from agrossuite.vtk_tools import view_geometry, view_scalar"
   ]
  },
  {
   "cell_type": "code",
   "execution_count": 2,
   "id": "a75b48ea-e098-4d82-910e-4625919a8896",
   "metadata": {
    "tags": []
   },
   "outputs": [
    {
     "data": {
      "text/plain": [
       "4"
      ]
     },
     "execution_count": 2,
     "metadata": {},
     "output_type": "execute_result"
    }
   ],
   "source": [
    "# problem\n",
    "problem = agros.problem(clear = True)\n",
    "problem.coordinate_type = \"axisymmetric\"\n",
    "problem.mesh_type = \"triangle\"\n",
    "\n",
    "problem.time_step_method = \"fixed\"\n",
    "problem.time_method_order = 2\n",
    "problem.time_total = 15000\n",
    "problem.time_steps = 20\n",
    "\n",
    "# fields\n",
    "# heat\n",
    "heat = problem.field(\"heat\")\n",
    "heat.analysis_type = \"transient\"\n",
    "heat.matrix_solver = \"external_plugin\"\n",
    "heat.transient_initial_condition = 293.15\n",
    "heat.number_of_refinements = 0\n",
    "heat.polynomial_order = 2\n",
    "heat.adaptivity_type = \"disabled\"\n",
    "heat.solver = \"linear\"\n",
    "\n",
    "# boundaries\n",
    "heat.add_boundary(\"Neumann\", \"heat_heat_flux\", {\"heat_convection_external_temperature\" : 0, \"heat_convection_heat_transfer_coefficient\" : 0, \"heat_heat_flux\" : 0, \"heat_radiation_ambient_temperature\" : 0, \"heat_radiation_emissivity\" : 0})\n",
    "heat.add_boundary(\"Convection\", \"heat_heat_flux\", {\"heat_convection_external_temperature\" : 293, \"heat_convection_heat_transfer_coefficient\" : 10, \"heat_heat_flux\" : 0, \"heat_radiation_ambient_temperature\" : 0, \"heat_radiation_emissivity\" : 0})\n",
    "\n",
    "# materials\n",
    "heat.add_material(\"Air\", {\"heat_conductivity\" : 0.02, \"heat_density\" : 1.2, \"heat_specific_heat\" : 1000, \"heat_velocity_angular\" : 0, \"heat_velocity_x\" : 0, \"heat_velocity_y\" : 0, \"heat_volume_heat\" : 0})\n",
    "heat.add_material(\"Copper\", {\"heat_conductivity\" : 200, \"heat_density\" : 8700, \"heat_specific_heat\" : 385, \"heat_velocity_angular\" : 0, \"heat_velocity_x\" : 0, \"heat_velocity_y\" : 0, \"heat_volume_heat\" : { \"expression\" : \"2e5*(time<5000)\" }})\n",
    "heat.add_material(\"Iron\", {\"heat_conductivity\" : 60, \"heat_density\" : 7800, \"heat_specific_heat\" : 460, \"heat_velocity_angular\" : 0, \"heat_velocity_x\" : 0, \"heat_velocity_y\" : 0, \"heat_volume_heat\" : 0})\n",
    "heat.add_material(\"Brass\", {\"heat_conductivity\" : 100, \"heat_density\" : 8400, \"heat_specific_heat\" : 378, \"heat_velocity_angular\" : 0, \"heat_velocity_x\" : 0, \"heat_velocity_y\" : 0, \"heat_volume_heat\" : 0})\n",
    "\n",
    "# geometry\n",
    "geometry = problem.geometry()\n",
    "geometry.add_edge(0, 0.18, 0.035, 0.18, boundaries = {\"heat\" : \"Convection\"})\n",
    "geometry.add_edge(0.035, 0.18, 0.035, 0.03, boundaries = {\"heat\" : \"Convection\"})\n",
    "geometry.add_edge(0.035, 0.03, 0.0135, 0.03, boundaries = {\"heat\" : \"Convection\"})\n",
    "geometry.add_edge(0.0135, 0.03, 0.0135, 0.038)\n",
    "geometry.add_edge(0.0135, 0.038, 0.019, 0.038)\n",
    "geometry.add_edge(0.027, 0.038, 0.027, 0.172)\n",
    "geometry.add_edge(0.027, 0.172, 0.008, 0.172)\n",
    "geometry.add_edge(0.008, 0.172, 0.008, 0.16)\n",
    "geometry.add_edge(0.008, 0.16, 0, 0.16)\n",
    "geometry.add_edge(0, 0.16, 0, 0.18, boundaries = {\"heat\" : \"Neumann\"})\n",
    "geometry.add_edge(0, 0.13, 0.008, 0.13)\n",
    "geometry.add_edge(0.008, 0.13, 0.008, 0.0395)\n",
    "geometry.add_edge(0.008, 0, 0, 0, boundaries = {\"heat\" : \"Convection\"})\n",
    "geometry.add_edge(0, 0, 0, 0.13, boundaries = {\"heat\" : \"Neumann\"})\n",
    "geometry.add_edge(0.019, 0.038, 0.027, 0.038)\n",
    "geometry.add_edge(0.019, 0.038, 0.019, 0.0395)\n",
    "geometry.add_edge(0, 0.13, 0, 0.16, boundaries = {\"heat\" : \"Neumann\"})\n",
    "geometry.add_edge(0.01, 0.041, 0.01, 0.1705)\n",
    "geometry.add_edge(0.025, 0.041, 0.01, 0.041)\n",
    "geometry.add_edge(0.01, 0.1705, 0.025, 0.1705)\n",
    "geometry.add_edge(0.025, 0.1705, 0.025, 0.041)\n",
    "geometry.add_edge(0.008, 0.0395, 0.008, 0.03)\n",
    "geometry.add_edge(0.008, 0.03, 0.008, 0, boundaries = {\"heat\" : \"Convection\"})\n",
    "geometry.add_edge(0.019, 0.0395, 0.009, 0.0395)\n",
    "geometry.add_edge(0.008, 0.03, 0.009, 0.03, boundaries = {\"heat\" : \"Convection\"})\n",
    "geometry.add_edge(0.009, 0.0395, 0.009, 0.03)\n",
    "geometry.add_edge(0.009, 0.03, 0.0135, 0.03, boundaries = {\"heat\" : \"Convection\"})\n",
    "\n",
    "geometry.add_label(0.0308709, 0.171031, materials = {\"heat\" : \"Iron\"})\n",
    "geometry.add_label(0.00316251, 0.011224, materials = {\"heat\" : \"Iron\"})\n",
    "geometry.add_label(0.0163723, 0.144289, materials = {\"heat\" : \"Copper\"})\n",
    "geometry.add_label(0.00380689, 0.151055, materials = {\"heat\" : \"Air\"})\n",
    "geometry.add_label(0.0112064, 0.0336487, materials = {\"heat\" : \"Brass\"})"
   ]
  },
  {
   "cell_type": "code",
   "execution_count": 3,
   "id": "2d47a124-be88-4426-b472-2705bf835820",
   "metadata": {
    "tags": []
   },
   "outputs": [],
   "source": [
    "# computation\n",
    "computation = problem.computation()\n",
    "computation.solve()"
   ]
  },
  {
   "cell_type": "code",
   "execution_count": 4,
   "id": "9a91dda3-9023-4d27-893d-446589121e93",
   "metadata": {
    "tags": []
   },
   "outputs": [
    {
     "data": {
      "image/png": "[encoded data removed]",
      "text/plain": [
       "<Figure size 500x500 with 1 Axes>"
      ]
     },
     "metadata": {},
     "output_type": "display_data"
    }
   ],
   "source": [
    "view_geometry(problem)"
   ]
  },
  {
   "cell_type": "code",
   "execution_count": 5,
   "id": "687a923e-9342-445c-a0b8-7547b6bc7af8",
   "metadata": {
    "tags": []
   },
   "outputs": [
    {
     "data": {
      "image/png": "[encoded data removed]",
      "text/plain": [
       "<Figure size 500x500 with 2 Axes>"
      ]
     },
     "metadata": {},
     "output_type": "display_data"
    }
   ],
   "source": [
    "view_scalar(problem, computation, time_step=20, adaptive_step=0, field=\"heat\", variable=\"heat_temperature_degrees\", component=\"scalar\")"
   ]
  },
  {
   "cell_type": "code",
   "execution_count": null,
   "id": "44f7455d-465c-4fdb-824a-92d0680bab5c",
   "metadata": {},
   "outputs": [],
   "source": []
  }
 ],
 "metadata": {
  "kernelspec": {
   "display_name": "Python 3.12",
   "language": "python",
   "name": "python_3.12"
  },
  "language_info": {
   "codemirror_mode": {
    "name": "ipython",
    "version": 3
   },
   "file_extension": ".py",
   "mimetype": "text/x-python",
   "name": "python",
   "nbconvert_exporter": "python",
   "pygments_lexer": "ipython3",
   "version": "3.12.2"
  }
 },
 "nbformat": 4,
 "nbformat_minor": 5
}
