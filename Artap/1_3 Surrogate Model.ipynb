{
 "cells": [
  {
   "cell_type": "code",
   "execution_count": 1,
   "metadata": {},
   "outputs": [],
   "source": [
    "from artap.problem import Problem\n",
    "from artap.results import Results\n",
    "from artap.surrogate_smt import SurrogateModelSMT\n",
    "from artap.operators import LHSGenerator\n",
    "from artap.algorithm_sweep import SweepAlgorithm\n",
    "# from artap.algorithm_nlopt import NLopt, LN_BOBYQA\n",
    "from artap.algorithm_genetic import NSGAII\n",
    "# \n",
    "import numpy as np\n",
    "from smt.surrogate_models import RBF, MGP"
   ]
  },
  {
   "cell_type": "code",
   "execution_count": 34,
   "metadata": {},
   "outputs": [],
   "source": [
    "class ProblemBranin(Problem):\n",
    "    def set(self):\n",
    "        self.parameters = [{'name': 'x_1', 'initial_value': 3, 'bounds': [-10, 10]},\n",
    "                           {'name': 'x_2', 'initial_value': 10, 'bounds': [-10, 10]}]\n",
    "        self.costs = [{'name': 'F'}]\n",
    "\n",
    "    def evaluate(self, individual):\n",
    "        x = individual.vector\n",
    "        y = (x[0] + 2 * x[1] - 7) ** 2 + (2 * x[0] + x[1] - 5) ** 2\n",
    "\n",
    "        return [y]\n",
    "\n",
    "    def predict(self, individual):\n",
    "        sigma_MGP, sigma_KRG = self.surrogate.predict_variances(individual.vector, True)\n",
    "\n",
    "        if sigma_MGP < 1e-3:\n",
    "            self.surrogate.train_step *= 1.3\n",
    "\n",
    "            value_problem = self.evaluate(individual)\n",
    "            value_surrogate = self.surrogate.predict(individual.vector)\n",
    "            # print(sigma_MGP, sigma_KRG, individual.vector, value_problem, value_surrogate)\n",
    "\n",
    "            return value_surrogate\n",
    "\n",
    "        return None"
   ]
  },
  {
   "cell_type": "code",
   "execution_count": 35,
   "metadata": {},
   "outputs": [
    {
     "name": "stderr",
     "output_type": "stream",
     "text": [
      "2021-02-03 14:55:47,722 (INFO): ProblemBranin-718588 - run (29) - Sweep: elapsed time: 0.002454042434692383 s\n",
      "2021-02-03 14:55:47,910 (INFO): ProblemBranin-718588 - run (146) - NSGA_II: 20/200\n",
      "2021-02-03 14:55:48,236 (INFO): ProblemBranin-718588 - run (173) - NSGA_II: elapsed time: 0.3267245292663574 s\n"
     ]
    }
   ],
   "source": [
    "problem = ProblemBranin()\n",
    "\n",
    "# surrogate\n",
    "problem.surrogate = SurrogateModelSMT(problem)\n",
    "# problem.surrogate.add_data(x, y)\n",
    "\n",
    "# set custom regressor\n",
    "problem.surrogate.regressor = MGP(theta0=[1e-2], n_comp=2, print_prediction=False)\n",
    "\n",
    "# DoE - Latin - Hypercube\n",
    "gen = LHSGenerator(parameters=problem.parameters)\n",
    "gen.init(number=20)\n",
    "\n",
    "algorithm_sweep = SweepAlgorithm(problem, generator=gen)\n",
    "algorithm_sweep.run()\n",
    "\n",
    "# train model\n",
    "problem.surrogate.train()\n",
    "\n",
    "# set train step\n",
    "problem.surrogate.train_step = 30\n",
    "\n",
    "# run optimization\n",
    "algorithm = NSGAII(problem)\n",
    "algorithm.options['max_population_number'] = 20\n",
    "algorithm.options['max_population_size'] = 10\n",
    "algorithm.options['max_processes'] = 1\n",
    "algorithm.run()"
   ]
  },
  {
   "cell_type": "code",
   "execution_count": 36,
   "metadata": {},
   "outputs": [
    {
     "name": "stderr",
     "output_type": "stream",
     "text": [
      "2021-02-03 14:55:49,096 (INFO): ProblemBranin-718588 - <module> (5) - surrogate: predict / eval counter:   209 /    21, total:   230\n"
     ]
    },
    {
     "name": "stdout",
     "output_type": "stream",
     "text": [
      "[1.0043174522050466, 2.877006687395613] [0.06683256]\n"
     ]
    }
   ],
   "source": [
    "b = Results(problem)\n",
    "optimum = b.find_optimum('F_1')  # Takes last cost function\n",
    "print(optimum.vector, optimum.costs)\n",
    "\n",
    "problem.logger.info(\"surrogate: predict / eval counter: {0:5.0f} / {1:5.0f}, total: {2:5.0f}\".format(\n",
    "    problem.surrogate.predict_counter,\n",
    "    problem.surrogate.eval_counter,\n",
    "    problem.surrogate.predict_counter + problem.surrogate.eval_counter))"
   ]
  }
 ],
 "metadata": {
  "kernelspec": {
   "display_name": "Python 3",
   "language": "python",
   "name": "python3"
  },
  "language_info": {
   "codemirror_mode": {
    "name": "ipython",
    "version": 3
   },
   "file_extension": ".py",
   "mimetype": "text/x-python",
   "name": "python",
   "nbconvert_exporter": "python",
   "pygments_lexer": "ipython3",
   "version": "3.8.10"
  }
 },
 "nbformat": 4,
 "nbformat_minor": 4
}
