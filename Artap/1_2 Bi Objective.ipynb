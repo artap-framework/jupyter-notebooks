{
 "cells": [
  {
   "cell_type": "markdown",
   "metadata": {},
   "source": [
    "# Multiobjective optimization\n",
    "\n",
    "The goal of this example to show, how we can use Artap to solve a simple,\n",
    "bi-objective optimization problem.\n",
    "\n",
    "The problem is defined in the following way [[1]](#1):\n",
    "\n",
    "Minimize $f_1 = x_1$.\n",
    "\n",
    "Minimize $f_2 = (1+x_2) / x_1$.\n",
    "\n",
    "subject to\n",
    "        $$\n",
    "        x_1 \\in \\langle 0.1, 1 \\rangle,\n",
    "        $$\n",
    "        $$\n",
    "        x_2 \\in  \\langle 0, 5 \\rangle.\n",
    "        $$\n",
    "\n",
    "The Pareto - front of the following problem is known, it is a simple\n",
    "hyperbola. This problem is very simple for an Evolutionary algorithm, it finds its solution within 20-30 generations.\n",
    "NSGA - II algorithm is used to solve this example."
   ]
  },
  {
   "cell_type": "code",
   "execution_count": 16,
   "metadata": {},
   "outputs": [],
   "source": [
    "from artap.problem import Problem\n",
    "from artap.algorithm_genetic import NSGAII\n",
    "from artap.results import Results"
   ]
  },
  {
   "cell_type": "code",
   "execution_count": 17,
   "metadata": {},
   "outputs": [],
   "source": [
    "class BiObjectiveProblem(Problem):\n",
    "    def set(self):\n",
    "        # Not mandatory to give a name for the test problem\n",
    "        self.name = 'Biobjective Problem'\n",
    "        self.working_dir = '.'\n",
    "        # Defines x_1 and x_2, which are the optimized parameters\n",
    "        # and the bounds 'defines' the constraints of the optimization problem\n",
    "        # nsga -- ii algorithm doesn't need an initial value for the definition\n",
    "        self.parameters = [{'name': 'x_1', 'bounds': [0.1, 1.]},\n",
    "                           {'name': 'x_2', 'bounds': [0.0, 5.0]}]\n",
    "\n",
    "        # The two, separate optimization functions and the direction of the optimization\n",
    "        # is set to minimization. It is also possible to use the maximize keyword.\n",
    "        self.costs = [{'name': 'f_1', 'criteria': 'minimize'},\n",
    "                      {'name': 'f_2', 'criteria': 'minimize'}]\n",
    "\n",
    "    def evaluate(self, individual):\n",
    "        # The individual.vector function contains the problem parameters in the appropriate (previously defined) order\n",
    "        f1 = individual.vector[0]\n",
    "        f2 = (1 + individual.vector[1]) / individual.vector[0]\n",
    "        # individual.auxvar = [1.]\n",
    "        return [f1, f2]"
   ]
  },
  {
   "cell_type": "code",
   "execution_count": 27,
   "metadata": {},
   "outputs": [
    {
     "name": "stderr",
     "output_type": "stream",
     "text": [
      "2022-02-03 08:52:36,492 (INFO): BiObjectiveProblem-480894 - run (146) - NSGA_II: 100/10000\n",
      "2022-02-03 08:52:41,145 (INFO): BiObjectiveProblem-480894 - run (173) - NSGA_II: elapsed time: 4.653043746948242 s\n"
     ]
    }
   ],
   "source": [
    "# Initialization of the problem\n",
    "problem = BiObjectiveProblem()\n",
    "\n",
    "# Perform the optimization iterating over 100 times on 100 individuals.\n",
    "algorithm = NSGAII(problem)\n",
    "algorithm.options['max_population_number'] = 100\n",
    "algorithm.options['max_population_size'] = 100\n",
    "algorithm.run()"
   ]
  },
  {
   "cell_type": "code",
   "execution_count": null,
   "metadata": {},
   "outputs": [
    {
     "data": {
      "image/png": "[encoded data removed]",
      "text/plain": [
       "<Figure size 432x288 with 1 Axes>"
      ]
     },
     "metadata": {
      "needs_background": "light"
     },
     "output_type": "display_data"
    }
   ],
   "source": [
    "# Post - processing the results\n",
    "# reads in the result values into the b, results class\n",
    "import pylab as plt\n",
    "results = Results(problem)\n",
    "table = results.pareto_front()\n",
    "plt.plot(table[0], table[1], 'o')\n",
    "plt.grid()\n",
    "plt.xlabel(r'$F_1$', fontsize=16)\n",
    "plt.ylabel(r'$F_2$', fontsize=16)\n",
    "plt.show()"
   ]
  },
  {
   "cell_type": "markdown",
   "metadata": {},
   "source": [
    "---\n",
    "It is possible to plot Pareto front for arbitrary generation"
   ]
  },
  {
   "cell_type": "code",
   "execution_count": 31,
   "metadata": {},
   "outputs": [
    {
     "data": {
      "image/png": "[encoded data removed]",
      "text/plain": [
       "<Figure size 432x288 with 1 Axes>"
      ]
     },
     "metadata": {
      "needs_background": "light"
     },
     "output_type": "display_data"
    }
   ],
   "source": [
    "import pylab as plt\n",
    "results = Results(problem)\n",
    "colors = ['ro', 'bo', 'go', 'ko', 'co'] \n",
    "for i in range(5):\n",
    "    table = results.pareto_front(population_id=100-25*i)\n",
    "    plt.plot(table[0], table[1], colors[i])\n",
    "\n",
    "plt.grid()\n",
    "plt.xlabel(r'$F_1$', fontsize=16)\n",
    "plt.ylabel(r'$F_2$', fontsize=16)\n",
    "plt.show()"
   ]
  },
  {
   "cell_type": "markdown",
   "metadata": {},
   "source": [
    "---\n",
    "Measure the quality of the solution with the aid of the built-in performace metrics\n",
    "We have to define a solution, which is a list of the [x, 1/x] tuples in the given area.\n",
    "The reference function can be defined by the following list comprehension:"
   ]
  },
  {
   "cell_type": "code",
   "execution_count": 12,
   "metadata": {},
   "outputs": [
    {
     "name": "stdout",
     "output_type": "stream",
     "text": [
      "Additive unary epsilon indicator: 0.7998040153002501\n",
      "Generational distance: 0.025828496811531876\n"
     ]
    }
   ],
   "source": [
    "reference = [(0.1 + x * 4.9 / 1000, 1. / (0.1 + x * 4.9 / 1000)) for x in range(0, 1000)]\n",
    "print('Additive unary epsilon indicator:', results.performance_measure(reference))\n",
    "print('Generational distance:', results.performance_measure(reference, type='gd'))"
   ]
  },
  {
   "cell_type": "markdown",
   "metadata": {},
   "source": [
    "##  References\n",
    "\n",
    "\n",
    "<a id=\"1\">[1]</a>  Kukkonen and J. Lampinen, \"GDE3: the third evolution step of generalized differential evolution,\" 2005 IEEE Congress on Evolutionary Computation, 2005, pp. 443-450 Vol.1, doi: 10.1109/CEC.2005.1554717."
   ]
  },
  {
   "cell_type": "code",
   "execution_count": null,
   "metadata": {},
   "outputs": [],
   "source": []
  }
 ],
 "metadata": {
  "kernelspec": {
   "display_name": "Python 3 (ipykernel)",
   "language": "python",
   "name": "python3"
  },
  "language_info": {
   "codemirror_mode": {
    "name": "ipython",
    "version": 3
   },
   "file_extension": ".py",
   "mimetype": "text/x-python",
   "name": "python",
   "nbconvert_exporter": "python",
   "pygments_lexer": "ipython3",
   "version": "3.8.12"
  }
 },
 "nbformat": 4,
 "nbformat_minor": 4
}
