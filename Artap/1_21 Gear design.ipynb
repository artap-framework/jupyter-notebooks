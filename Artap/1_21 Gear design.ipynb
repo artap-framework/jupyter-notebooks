{
 "cells": [
  {
   "cell_type": "markdown",
   "id": "ca34cc62-3bbb-4b31-a3d1-2f24253fa09f",
   "metadata": {
    "tags": []
   },
   "source": [
    "#  Gear design\n",
    "\n",
    "Example from [[1]](#1) page 434. The objective of the task is to find the optimal turn numbers of a gearbox gear's. The gearbox contains for gears, the required gear ratio is 1/6.931, the number of the teeth must be integer numbers, all of these four variables must to be integers.\n",
    "\n",
    "The variable vector:    $ \\vec{x} = (x_1, x_2, x_3, x_4) = (T_d, T_b, T_a, T_f)$\n",
    "\n",
    "The problem can be formulated as a two variable optimization function. The first goal function's role is to minimize the  error between the obtained and the realized gear ratio:\n",
    "\n",
    "Minimize \n",
    "$$\n",
    "F_1 = \\left( \\frac{1}{6.931} -  \\frac{x_1 \\cdot x_2}{x_3 \\cdot x_4} \\right) ^2.\n",
    "$$\n",
    "where $x$ is the solution vector, contains the number of the teeths, these numbers\n",
    "are strictly integers\n",
    "\n",
    "Minimize \n",
    "$$\n",
    "F_2 = \\max(x_1, x_2, x_3, x_4)\n",
    "$$\n",
    "subject to\n",
    "$$\n",
    "\\begin{eqnarray*}\n",
    "        x_1 &\\in& [12, 60]  \\subset \\mathbb{Z},  \\\\\n",
    "        x_2 &\\in& [12, 60]  \\subset \\mathbb{Z},  \\\\\n",
    "        x_3 &\\in& [12, 60]  \\subset \\mathbb{Z},  \\\\\n",
    "        x_4 &\\in& [12, 60]  \\subset \\mathbb{Z}.\n",
    "\\end{eqnarray*}\n",
    "$$\n",
    "\n",
    "The were published two extremal solution in [[1]](#1):\n",
    "\n",
    "- solution E : $x = (12, 12, 27, 37)$; Error $F_1 = 1.83\\cdot 10^{-8}$; Max teeth number = 37\n",
    "- solution D : $x = (12, 12, 13, 13)$; Error $F_1 = 5.01\\cdot 10^{-1}$; Max teeth number = 13"
   ]
  },
  {
   "cell_type": "code",
   "execution_count": 4,
   "id": "a8d6ab34-e9b8-4d66-b98d-ea23594bc4f9",
   "metadata": {},
   "outputs": [
    {
     "name": "stderr",
     "output_type": "stream",
     "text": [
      "2022-02-07 09:18:52,282 (INFO): GearDesignProblem-268989 - run (146) - NSGA_II: 100/10000\n",
      "2022-02-07 09:18:58,320 (INFO): GearDesignProblem-268989 - run (173) - NSGA_II: elapsed time: 6.037979364395142 s\n"
     ]
    },
    {
     "data": {
      "image/png": "[encoded data removed]",
      "text/plain": [
       "<Figure size 432x288 with 1 Axes>"
      ]
     },
     "metadata": {
      "needs_background": "light"
     },
     "output_type": "display_data"
    }
   ],
   "source": [
    "from artap.problem import Problem\n",
    "from artap.algorithm_genetic import NSGAII\n",
    "from artap.results import Results\n",
    "\n",
    "import matplotlib.pyplot as plt\n",
    "\n",
    "\n",
    "class GearDesignProblem(Problem):\n",
    "\n",
    "    def set(self):\n",
    "\n",
    "        # Not mandatory to give a name for the test problem\n",
    "        self.name = 'Gear Design'\n",
    "\n",
    "        # Defines x_1 and x_2, which are the optimized parameters\n",
    "        # and the bounds 'defines' the constraints of the optimization problem\n",
    "        # nsga -- ii algorithm doesn't need an initial value for the definition\n",
    "        self.parameters = [{'name':'x1', 'bounds': [12, 60], 'parameter_type':'integer'},\n",
    "                           {'name':'x2', 'bounds': [12, 60], 'parameter_type':'integer'},\n",
    "                           {'name':'x3', 'bounds': [12, 60], 'parameter_type':'integer'},\n",
    "                           {'name':'x4', 'bounds': [12, 60], 'parameter_type':'integer'}]\n",
    "\n",
    "        # The two, separate optimization functions and the direction of the optimization\n",
    "        # is set to minimization. It is also possible to use the maximize keyword.\n",
    "        self.costs = [{'name': 'f_1', 'criteria': 'minimize'},\n",
    "                      {'name': 'f_2', 'criteria': 'minimize'}]\n",
    "\n",
    "    def evaluate(self, x):\n",
    "        f1 = (1./6.931 - (x.vector[0]*x.vector[1])/(x.vector[2]*x.vector[3]))**2.\n",
    "        f2 = max(x.vector)\n",
    "        return [f1, f2]\n",
    "\n",
    "\n",
    "# Initialization of the problem\n",
    "problem = GearDesignProblem()\n",
    "\n",
    "# Perform the optimization iterating over 100 times on 100 individuals.\n",
    "algorithm = NSGAII(problem)\n",
    "algorithm.options['max_population_number'] = 100\n",
    "algorithm.options['max_population_size'] = 100\n",
    "algorithm.run()\n",
    "\n",
    "# Post - processing the results\n",
    "# reads in the result values into the b, results class\n",
    "b = Results(problem)\n",
    "\n",
    "# finding the pareto values\n",
    "table = b.pareto_values()\n",
    "plt.plot(table[0], table[1])\n",
    "plt.show()"
   ]
  },
  {
   "cell_type": "markdown",
   "id": "69a610bc-4ab4-4f90-bd54-d4dc9f14c7db",
   "metadata": {},
   "source": [
    "##  References\n",
    "\n",
    "<a id=\"1\">[1]</a>  Deb, Kalyan. (2001). Multiobjective Optimization Using Evolutionary Algorithms. Wiley, New York. "
   ]
  }
 ],
 "metadata": {
  "kernelspec": {
   "display_name": "Python 3 (ipykernel)",
   "language": "python",
   "name": "python3"
  },
  "language_info": {
   "codemirror_mode": {
    "name": "ipython",
    "version": 3
   },
   "file_extension": ".py",
   "mimetype": "text/x-python",
   "name": "python",
   "nbconvert_exporter": "python",
   "pygments_lexer": "ipython3",
   "version": "3.8.12"
  }
 },
 "nbformat": 4,
 "nbformat_minor": 5
}
